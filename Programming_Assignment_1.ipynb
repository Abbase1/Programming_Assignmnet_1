{
 "cells": [
  {
   "cell_type": "markdown",
   "id": "5eff4608",
   "metadata": {},
   "source": [
    "# Q1 :Write a Python program to print \"Hello Python\"?"
   ]
  },
  {
   "cell_type": "code",
   "execution_count": null,
   "id": "b4cf9aed",
   "metadata": {
    "scrolled": false
   },
   "outputs": [],
   "source": [
    "print(\"Hello Python\")"
   ]
  },
  {
   "cell_type": "markdown",
   "id": "65c48e09",
   "metadata": {},
   "source": [
    "# Q2.\tWrite a Python program to do arithmetical operations addition and division.?"
   ]
  },
  {
   "cell_type": "code",
   "execution_count": null,
   "id": "c771e438",
   "metadata": {},
   "outputs": [],
   "source": [
    "a = int(input(\"Enter the value of first number: \"))\n",
    "b = int(input(\"Enter the value of second number\"))\n",
    "print(\"Addition is: \", a + b)\n",
    "print( \"Division is: \",a / b)"
   ]
  },
  {
   "cell_type": "markdown",
   "id": "7f4c85e3",
   "metadata": {},
   "source": [
    "# Q3. Write a Python program to find the area of a triangle?"
   ]
  },
  {
   "cell_type": "code",
   "execution_count": null,
   "id": "d6064deb",
   "metadata": {},
   "outputs": [],
   "source": [
    "a = int(input(\"Enter the height of triangle: \"))\n",
    "b = int(input(\"enter the base of triangle\"))\n",
    "print(\"Area of triangle is: \", 1/2 * a * b)"
   ]
  },
  {
   "cell_type": "markdown",
   "id": "00c89914",
   "metadata": {},
   "source": [
    "# Q4. Write a Python program to swap two variables?"
   ]
  },
  {
   "cell_type": "code",
   "execution_count": null,
   "id": "3ed0ae0c",
   "metadata": {},
   "outputs": [],
   "source": [
    "a = int(input(\"Enter the value of first number: \"))\n",
    "b = int(input(\"Enter the value of second number: \"))\n",
    "print(\"Values before swapping is {} and {}\".format(a,b))\n",
    "d = a\n",
    "a=b\n",
    "b=d\n",
    "print(\"Values after swapping is {} and {}\".format(a,b))"
   ]
  },
  {
   "cell_type": "markdown",
   "id": "3588e3f4",
   "metadata": {},
   "source": [
    "# Q5. Write a Python program to generate a random number?"
   ]
  },
  {
   "cell_type": "code",
   "execution_count": null,
   "id": "de29ebf9",
   "metadata": {},
   "outputs": [],
   "source": [
    "import random\n",
    "a = int(input(\"Enter the starting range\"))\n",
    "b = int(input(\"Enter the end of range\"))\n",
    "r = random.randint(a,b)\n",
    "print(r)"
   ]
  },
  {
   "cell_type": "code",
   "execution_count": null,
   "id": "64611b60",
   "metadata": {},
   "outputs": [],
   "source": []
  }
 ],
 "metadata": {
  "kernelspec": {
   "display_name": "Python 3 (ipykernel)",
   "language": "python",
   "name": "python3"
  },
  "language_info": {
   "codemirror_mode": {
    "name": "ipython",
    "version": 3
   },
   "file_extension": ".py",
   "mimetype": "text/x-python",
   "name": "python",
   "nbconvert_exporter": "python",
   "pygments_lexer": "ipython3",
   "version": "3.9.7"
  }
 },
 "nbformat": 4,
 "nbformat_minor": 5
}
